{
 "cells": [
  {
   "cell_type": "markdown",
   "id": "582c9ebf",
   "metadata": {},
   "source": [
    "### Introduction"
   ]
  },
  {
   "cell_type": "markdown",
   "id": "dbb2d15f",
   "metadata": {},
   "source": [
    "**The objective of this project is to demonstrate my A/B testing abilities with a public dataset. For this project, I will be working to understand the results of an A/B test run by an e-commerce website. My goal is to help the company understand if they should implement the new page, keep the old page, or perhaps run the experiment longer to make their decision.**"
   ]
  },
  {
   "cell_type": "markdown",
   "id": "afc97c0e",
   "metadata": {},
   "source": [
    "### I - Import Dependencies"
   ]
  },
  {
   "cell_type": "code",
   "execution_count": 1,
   "id": "8466028b",
   "metadata": {},
   "outputs": [],
   "source": [
    "import pandas as pd\n",
    "\n",
    "import numpy as np\n",
    "import scipy.stats as stats\n",
    "from statsmodels.stats.proportion import proportions_ztest\n",
    "import scipy.stats as stats\n",
    "import math\n",
    "\n",
    "import seaborn as sns \n",
    "import matplotlib.pyplot as plt\n",
    "from matplotlib.lines import Line2D   "
   ]
  },
  {
   "cell_type": "markdown",
   "id": "63901f7d",
   "metadata": {},
   "source": [
    "### II - Import Data"
   ]
  },
  {
   "cell_type": "code",
   "execution_count": 2,
   "id": "f1a820de",
   "metadata": {
    "scrolled": true
   },
   "outputs": [
    {
     "data": {
      "text/html": [
       "<div>\n",
       "<style scoped>\n",
       "    .dataframe tbody tr th:only-of-type {\n",
       "        vertical-align: middle;\n",
       "    }\n",
       "\n",
       "    .dataframe tbody tr th {\n",
       "        vertical-align: top;\n",
       "    }\n",
       "\n",
       "    .dataframe thead th {\n",
       "        text-align: right;\n",
       "    }\n",
       "</style>\n",
       "<table border=\"1\" class=\"dataframe\">\n",
       "  <thead>\n",
       "    <tr style=\"text-align: right;\">\n",
       "      <th></th>\n",
       "      <th>id</th>\n",
       "      <th>time</th>\n",
       "      <th>con_treat</th>\n",
       "      <th>page</th>\n",
       "      <th>converted</th>\n",
       "    </tr>\n",
       "  </thead>\n",
       "  <tbody>\n",
       "    <tr>\n",
       "      <th>0</th>\n",
       "      <td>851104</td>\n",
       "      <td>11:48.6</td>\n",
       "      <td>control</td>\n",
       "      <td>old_page</td>\n",
       "      <td>0</td>\n",
       "    </tr>\n",
       "    <tr>\n",
       "      <th>1</th>\n",
       "      <td>804228</td>\n",
       "      <td>01:45.2</td>\n",
       "      <td>control</td>\n",
       "      <td>old_page</td>\n",
       "      <td>0</td>\n",
       "    </tr>\n",
       "    <tr>\n",
       "      <th>2</th>\n",
       "      <td>661590</td>\n",
       "      <td>55:06.2</td>\n",
       "      <td>treatment</td>\n",
       "      <td>new_page</td>\n",
       "      <td>0</td>\n",
       "    </tr>\n",
       "  </tbody>\n",
       "</table>\n",
       "</div>"
      ],
      "text/plain": [
       "       id     time  con_treat      page  converted\n",
       "0  851104  11:48.6    control  old_page          0\n",
       "1  804228  01:45.2    control  old_page          0\n",
       "2  661590  55:06.2  treatment  new_page          0"
      ]
     },
     "execution_count": 2,
     "metadata": {},
     "output_type": "execute_result"
    }
   ],
   "source": [
    "df = pd.read_csv('ab_test.csv')\n",
    "df.head(3)"
   ]
  },
  {
   "cell_type": "markdown",
   "id": "642df39a",
   "metadata": {},
   "source": [
    "### III - Data Cleaning"
   ]
  },
  {
   "cell_type": "code",
   "execution_count": 3,
   "id": "d6ab433b",
   "metadata": {
    "scrolled": true
   },
   "outputs": [
    {
     "name": "stdout",
     "output_type": "stream",
     "text": [
      "<class 'pandas.core.frame.DataFrame'>\n",
      "RangeIndex: 294478 entries, 0 to 294477\n",
      "Data columns (total 5 columns):\n",
      " #   Column     Non-Null Count   Dtype \n",
      "---  ------     --------------   ----- \n",
      " 0   id         294478 non-null  int64 \n",
      " 1   time       294478 non-null  object\n",
      " 2   con_treat  294478 non-null  object\n",
      " 3   page       294478 non-null  object\n",
      " 4   converted  294478 non-null  int64 \n",
      "dtypes: int64(2), object(3)\n",
      "memory usage: 11.2+ MB\n"
     ]
    }
   ],
   "source": [
    "df.info()"
   ]
  },
  {
   "cell_type": "markdown",
   "id": "eccfac05",
   "metadata": {},
   "source": [
    "**We have no null values within our dataframe. If we have null variables within the dataset we would have three options.**\n",
    "\n",
    "1. Replace the null values with the average value\n",
    "2. Replace with a value of 0\n",
    "3. Drop all records that contains null values"
   ]
  },
  {
   "cell_type": "markdown",
   "id": "ac0fdff8",
   "metadata": {},
   "source": [
    "#### Number of Unique Drivers"
   ]
  },
  {
   "cell_type": "code",
   "execution_count": 4,
   "id": "73b09bf2",
   "metadata": {
    "scrolled": true
   },
   "outputs": [
    {
     "name": "stdout",
     "output_type": "stream",
     "text": [
      "We have 290584 distinct users within the database\n"
     ]
    }
   ],
   "source": [
    "users = df.id.nunique()\n",
    "print(f'We have {users} distinct users within the database')"
   ]
  },
  {
   "cell_type": "markdown",
   "id": "09922f6c",
   "metadata": {},
   "source": [
    "#### Mismatched Drivers"
   ]
  },
  {
   "cell_type": "code",
   "execution_count": 5,
   "id": "6ec29b36",
   "metadata": {},
   "outputs": [
    {
     "data": {
      "text/plain": [
       "con_treat  page    \n",
       "control    new_page      1928\n",
       "           old_page    145274\n",
       "treatment  new_page    145310\n",
       "           old_page      1965\n",
       "Name: id, dtype: int64"
      ]
     },
     "execution_count": 5,
     "metadata": {},
     "output_type": "execute_result"
    }
   ],
   "source": [
    "df.groupby(['con_treat', 'page']).id.nunique()"
   ]
  },
  {
   "cell_type": "markdown",
   "id": "56179f30",
   "metadata": {},
   "source": [
    "We might have some mismatched users that appear in the treatment but entered the old page and some users that appear in the control that entered the new page. Since there is no way to know which record is correct, we should only accept users in the control group that used the old page and users in the control group that used the new page."
   ]
  },
  {
   "cell_type": "code",
   "execution_count": 6,
   "id": "fca4d75b",
   "metadata": {},
   "outputs": [
    {
     "name": "stdout",
     "output_type": "stream",
     "text": [
      "There are 290585 correctly matched users within our database\n"
     ]
    }
   ],
   "source": [
    "matched = df[(df.con_treat == 'treatment') & (df.page == 'new_page') | (df.con_treat == 'control') & (df.page == 'old_page')]\n",
    "print(f'There are {matched.shape[0]} correctly matched users within our database')"
   ]
  },
  {
   "cell_type": "markdown",
   "id": "ba0e5256",
   "metadata": {},
   "source": [
    "#### Duplicate Rows"
   ]
  },
  {
   "cell_type": "code",
   "execution_count": 7,
   "id": "25e02e7b",
   "metadata": {
    "scrolled": true
   },
   "outputs": [
    {
     "name": "stdout",
     "output_type": "stream",
     "text": [
      "We seem to have 0 duplicate records in our database\n"
     ]
    }
   ],
   "source": [
    "n_duplicates = matched[matched.duplicated()]\n",
    "print(f'We seem to have {len(n_duplicates)} duplicate records in our database')"
   ]
  },
  {
   "cell_type": "markdown",
   "id": "dc9fc177",
   "metadata": {},
   "source": [
    "We might have no duplicate records withing the dataframe but we might have duplicated users within the dataframe"
   ]
  },
  {
   "cell_type": "code",
   "execution_count": 8,
   "id": "b1763274",
   "metadata": {
    "scrolled": true
   },
   "outputs": [
    {
     "data": {
      "text/html": [
       "<div>\n",
       "<style scoped>\n",
       "    .dataframe tbody tr th:only-of-type {\n",
       "        vertical-align: middle;\n",
       "    }\n",
       "\n",
       "    .dataframe tbody tr th {\n",
       "        vertical-align: top;\n",
       "    }\n",
       "\n",
       "    .dataframe thead th {\n",
       "        text-align: right;\n",
       "    }\n",
       "</style>\n",
       "<table border=\"1\" class=\"dataframe\">\n",
       "  <thead>\n",
       "    <tr style=\"text-align: right;\">\n",
       "      <th></th>\n",
       "      <th>id</th>\n",
       "      <th>time</th>\n",
       "      <th>con_treat</th>\n",
       "      <th>page</th>\n",
       "      <th>converted</th>\n",
       "    </tr>\n",
       "  </thead>\n",
       "  <tbody>\n",
       "    <tr>\n",
       "      <th>2893</th>\n",
       "      <td>773192</td>\n",
       "      <td>55:59.6</td>\n",
       "      <td>treatment</td>\n",
       "      <td>new_page</td>\n",
       "      <td>0</td>\n",
       "    </tr>\n",
       "  </tbody>\n",
       "</table>\n",
       "</div>"
      ],
      "text/plain": [
       "          id     time  con_treat      page  converted\n",
       "2893  773192  55:59.6  treatment  new_page          0"
      ]
     },
     "execution_count": 8,
     "metadata": {},
     "output_type": "execute_result"
    }
   ],
   "source": [
    "matched[matched.duplicated(\"id\") == True]"
   ]
  },
  {
   "cell_type": "code",
   "execution_count": 9,
   "id": "251f4d50",
   "metadata": {
    "scrolled": true
   },
   "outputs": [
    {
     "data": {
      "text/html": [
       "<div>\n",
       "<style scoped>\n",
       "    .dataframe tbody tr th:only-of-type {\n",
       "        vertical-align: middle;\n",
       "    }\n",
       "\n",
       "    .dataframe tbody tr th {\n",
       "        vertical-align: top;\n",
       "    }\n",
       "\n",
       "    .dataframe thead th {\n",
       "        text-align: right;\n",
       "    }\n",
       "</style>\n",
       "<table border=\"1\" class=\"dataframe\">\n",
       "  <thead>\n",
       "    <tr style=\"text-align: right;\">\n",
       "      <th></th>\n",
       "      <th>id</th>\n",
       "      <th>time</th>\n",
       "      <th>con_treat</th>\n",
       "      <th>page</th>\n",
       "      <th>converted</th>\n",
       "    </tr>\n",
       "  </thead>\n",
       "  <tbody>\n",
       "    <tr>\n",
       "      <th>1899</th>\n",
       "      <td>773192</td>\n",
       "      <td>37:58.8</td>\n",
       "      <td>treatment</td>\n",
       "      <td>new_page</td>\n",
       "      <td>0</td>\n",
       "    </tr>\n",
       "    <tr>\n",
       "      <th>2893</th>\n",
       "      <td>773192</td>\n",
       "      <td>55:59.6</td>\n",
       "      <td>treatment</td>\n",
       "      <td>new_page</td>\n",
       "      <td>0</td>\n",
       "    </tr>\n",
       "  </tbody>\n",
       "</table>\n",
       "</div>"
      ],
      "text/plain": [
       "          id     time  con_treat      page  converted\n",
       "1899  773192  37:58.8  treatment  new_page          0\n",
       "2893  773192  55:59.6  treatment  new_page          0"
      ]
     },
     "execution_count": 9,
     "metadata": {},
     "output_type": "execute_result"
    }
   ],
   "source": [
    "matched[matched.id == 773192]"
   ]
  },
  {
   "cell_type": "markdown",
   "id": "3a9bd46a",
   "metadata": {},
   "source": [
    "*This user has been duplicated within the database and should be removed. The user has two records under different times that made our previous pre-processing method believe that it was a two different records.*"
   ]
  },
  {
   "cell_type": "code",
   "execution_count": 10,
   "id": "20ebf46b",
   "metadata": {},
   "outputs": [],
   "source": [
    "# Remove duplicated user\n",
    "matched = matched.drop_duplicates(\"id\", keep='first') #keeping the first entry"
   ]
  },
  {
   "cell_type": "code",
   "execution_count": 11,
   "id": "3c734a89",
   "metadata": {},
   "outputs": [],
   "source": [
    "clean_df = matched.copy()"
   ]
  },
  {
   "cell_type": "markdown",
   "id": "1e1d8005",
   "metadata": {},
   "source": [
    "### IV - EDA"
   ]
  },
  {
   "cell_type": "code",
   "execution_count": 12,
   "id": "83e81cf0",
   "metadata": {
    "scrolled": true
   },
   "outputs": [
    {
     "data": {
      "text/html": [
       "<div>\n",
       "<style scoped>\n",
       "    .dataframe tbody tr th:only-of-type {\n",
       "        vertical-align: middle;\n",
       "    }\n",
       "\n",
       "    .dataframe tbody tr th {\n",
       "        vertical-align: top;\n",
       "    }\n",
       "\n",
       "    .dataframe thead th {\n",
       "        text-align: right;\n",
       "    }\n",
       "</style>\n",
       "<table border=\"1\" class=\"dataframe\">\n",
       "  <thead>\n",
       "    <tr style=\"text-align: right;\">\n",
       "      <th></th>\n",
       "      <th>count</th>\n",
       "      <th>mean</th>\n",
       "      <th>std</th>\n",
       "      <th>min</th>\n",
       "      <th>25%</th>\n",
       "      <th>50%</th>\n",
       "      <th>75%</th>\n",
       "      <th>max</th>\n",
       "    </tr>\n",
       "  </thead>\n",
       "  <tbody>\n",
       "    <tr>\n",
       "      <th>converted</th>\n",
       "      <td>290584.0</td>\n",
       "      <td>0.119597</td>\n",
       "      <td>0.32449</td>\n",
       "      <td>0.0</td>\n",
       "      <td>0.0</td>\n",
       "      <td>0.0</td>\n",
       "      <td>0.0</td>\n",
       "      <td>1.0</td>\n",
       "    </tr>\n",
       "  </tbody>\n",
       "</table>\n",
       "</div>"
      ],
      "text/plain": [
       "              count      mean      std  min  25%  50%  75%  max\n",
       "converted  290584.0  0.119597  0.32449  0.0  0.0  0.0  0.0  1.0"
      ]
     },
     "execution_count": 12,
     "metadata": {},
     "output_type": "execute_result"
    }
   ],
   "source": [
    "clean_df.id = clean_df.id.astype(str)\n",
    "clean_df.describe().T"
   ]
  },
  {
   "cell_type": "code",
   "execution_count": 13,
   "id": "86fa19e6",
   "metadata": {
    "scrolled": true
   },
   "outputs": [
    {
     "name": "stdout",
     "output_type": "stream",
     "text": [
      "The number of users in the control group is equal to: 49.99\n",
      "The number of users in the treatment group is equal to: 50.01\n"
     ]
    }
   ],
   "source": [
    "control = clean_df.loc[clean_df.con_treat == 'control']\n",
    "treat = clean_df.loc[clean_df.con_treat == 'treatment']\n",
    "\n",
    "print(f'The number of users in the control group is equal to:', round(len(control)/len(clean_df) *100, 2))\n",
    "print(f'The number of users in the treatment group is equal to:', round(len(treat)/len(clean_df) *100, 2))"
   ]
  },
  {
   "cell_type": "code",
   "execution_count": 14,
   "id": "f0af6fa2",
   "metadata": {},
   "outputs": [
    {
     "name": "stdout",
     "output_type": "stream",
     "text": [
      "The sample sizes of the control group and treatment group are 145274 and 145310 respectively\n",
      "The number of conversions in the exposed group and control group is 17489 and 17264 respectively\n"
     ]
    }
   ],
   "source": [
    "control_converted = control.query('converted == 1')\n",
    "treat_converted = treat.query('converted == 1')\n",
    "print('The sample sizes of the control group and treatment group are {} and {} respectively'.format(control.shape[0], treat.shape[0]))\n",
    "print('The number of conversions in the exposed group and control group is {} and {} respectively'.format(control_converted.shape[0],\n",
    "                                                                                          treat_converted.shape[0]))"
   ]
  },
  {
   "cell_type": "code",
   "execution_count": 15,
   "id": "ac08036a",
   "metadata": {
    "scrolled": true
   },
   "outputs": [
    {
     "data": {
      "text/html": [
       "<div>\n",
       "<style scoped>\n",
       "    .dataframe tbody tr th:only-of-type {\n",
       "        vertical-align: middle;\n",
       "    }\n",
       "\n",
       "    .dataframe tbody tr th {\n",
       "        vertical-align: top;\n",
       "    }\n",
       "\n",
       "    .dataframe thead th {\n",
       "        text-align: right;\n",
       "    }\n",
       "</style>\n",
       "<table border=\"1\" class=\"dataframe\">\n",
       "  <thead>\n",
       "    <tr style=\"text-align: right;\">\n",
       "      <th></th>\n",
       "      <th>converted</th>\n",
       "    </tr>\n",
       "    <tr>\n",
       "      <th>page</th>\n",
       "      <th></th>\n",
       "    </tr>\n",
       "  </thead>\n",
       "  <tbody>\n",
       "    <tr>\n",
       "      <th>new_page</th>\n",
       "      <td>11.880807</td>\n",
       "    </tr>\n",
       "    <tr>\n",
       "      <th>old_page</th>\n",
       "      <td>12.038630</td>\n",
       "    </tr>\n",
       "  </tbody>\n",
       "</table>\n",
       "</div>"
      ],
      "text/plain": [
       "          converted\n",
       "page               \n",
       "new_page  11.880807\n",
       "old_page  12.038630"
      ]
     },
     "execution_count": 15,
     "metadata": {},
     "output_type": "execute_result"
    }
   ],
   "source": [
    "#Given that the users treatment type, whats the probability that the user converted?\n",
    "clean_df.groupby(\"page\").mean() *100 "
   ]
  },
  {
   "cell_type": "markdown",
   "id": "0451cdcc",
   "metadata": {},
   "source": [
    "The conversion rate of users within the control group was higher than those in the treatment group that used the new page. The probability suggests that there is no significant difference in convergence between treatment and control groups. \n",
    "\n",
    "Therefore, we could conclude that the new treatment page has no impact and does not lead to more conversions."
   ]
  },
  {
   "cell_type": "markdown",
   "id": "a6be04fa",
   "metadata": {},
   "source": [
    "#### V - Hypothesis Testing"
   ]
  },
  {
   "cell_type": "markdown",
   "id": "26a8ed3d",
   "metadata": {},
   "source": [
    "Here we will be formulating a null and an alternative hypothesis. The null hypothesis will state that there are no changes in conversion with the new page. The alternative hypothesis is what we wanted to confirm, i.e the conversion rate is higher with the new page compared to the old page.\n",
    "\n",
    "                                        𝑁𝑢𝑙𝑙(𝐻0) 𝑎𝑛𝑑 𝐴𝑙𝑡𝑒𝑟𝑛𝑎𝑡𝑖𝑣𝑒(𝐻1) 𝐻𝑦𝑝𝑜𝑡ℎ𝑒𝑠𝑖𝑠:\n",
    " \n",
    "                                                𝐻0: 𝑌𝑛𝑒𝑤− 𝑌𝑜𝑙𝑑=0\n",
    "                                                𝐻1: 𝑌𝑛𝑒𝑤− 𝑌𝑜𝑙𝑑>0"
   ]
  },
  {
   "cell_type": "code",
   "execution_count": 16,
   "id": "fb2e40bb",
   "metadata": {},
   "outputs": [
    {
     "name": "stdout",
     "output_type": "stream",
     "text": [
      "P-value is equal to 90.51%\n"
     ]
    }
   ],
   "source": [
    "#storing number of conversions for exposed and control groups as numpy arrays\n",
    "count = np.array([treat_converted.shape[0], control_converted.shape[0]])\n",
    "\n",
    "#storing sample sizes of exposed and control group as numpy arrays\n",
    "nobs = np.array([treat.shape[0], control.shape[0]])\n",
    "#storing results of z test in variables\n",
    "stat, p_val = proportions_ztest(count, nobs, alternative = 'larger')\n",
    "p_form = '{0:.2f}%'.format(p_val*100)\n",
    "print('P-value is equal to {}'.format(p_form))"
   ]
  },
  {
   "cell_type": "code",
   "execution_count": 17,
   "id": "299f7b8c",
   "metadata": {},
   "outputs": [],
   "source": [
    "# Draw 100000 samples from binominal distribution\n",
    "treat_converted = np.random.binomial(treat.shape[0], treat.converted.mean(), 100000)/treat.shape[0]\n",
    "control_simulation = np.random.binomial(control.shape[0], control.converted.mean(), 100000)/control.shape[0]\n",
    "p_diffs = treat_converted - control_simulation\n",
    "diffs = np.array(p_diffs)\n",
    "\n",
    "#Creation of normal distribution centered at zero\n",
    "null_vals = np.random.normal(0, np.std(diffs), len(diffs))"
   ]
  },
  {
   "cell_type": "code",
   "execution_count": 18,
   "id": "c8b70206",
   "metadata": {},
   "outputs": [],
   "source": [
    "def statplot(data, lim, obs_stat, title):\n",
    "    \"\"\"\n",
    "    This function creates a plot, that represents sampling distribution. \n",
    "    This plot is formatted and has main statistics on it\n",
    "    Arguments:\n",
    "    data = array\n",
    "    lim = height of the plot\n",
    "    obs_stat = observed statistic\n",
    "    title = chart title\n",
    "    \"\"\"\n",
    "    \n",
    "    #Create a kdeplot\n",
    "    plt.figure(figsize=(12,6))\n",
    "    ax = sns.kdeplot(data, linewidth = 0.8, color = 'black')\n",
    "    \n",
    "    # Simple formatting\n",
    "    frame = ['right', 'left', 'top']\n",
    "    for i in frame:\n",
    "        ax.spines[i].set_visible(False)\n",
    "\n",
    "    plt.title(title)\n",
    "    plt.ylabel('')\n",
    "    plt.yticks([], [])\n",
    "    \n",
    "    # Legend\n",
    "    line = Line2D([0], [0], color='red', linestyle = '-', label='observed statistic')\n",
    "    line_dashed = Line2D([0], [0], color='black', linestyle = '--', label='mean and standard deviation')\n",
    "    plt.legend(handles=[line, line_dashed], loc='upper left');\n",
    "    \n",
    "    # Create a list of 3 standard deviation to the left and to the right and mean\n",
    "    std_list = []\n",
    "    std_list_format = []\n",
    "    for i in range(-3,4):\n",
    "        std_dev = np.std(data) * i + np.mean(data)\n",
    "        std_list.append(std_dev)\n",
    "        std_list_format.append('{0:.3f}'.format(std_dev) + '\\n {} std'.format(i))\n",
    "        \n",
    "    # Create a list of corresponding y values\n",
    "    data_x, data_y = ax.lines[0].get_data()\n",
    "    height = []\n",
    "    for i in std_list:\n",
    "        height.append(np.interp(i, data_x, data_y))\n",
    "        \n",
    "    # Plotting vertical lines representing std deviations \n",
    "    for a, b in zip(std_list, height):\n",
    "        plt.axvline(a, 0, b/lim, color = 'black', alpha = 1, linewidth = 0.8, linestyle = '--')\n",
    "        plt.plot(a, b, marker = 'o', color = 'blue')\n",
    "    \n",
    "    # Plotting observed statistic\n",
    "    obs_line_height = np.interp(obs_stat, data_x, data_y)\n",
    "    plt.axvline(obs_stat, 0, obs_line_height/lim, color = 'red', alpha = 1, linewidth = 0.8, linestyle = '-')\n",
    "    plt.plot(obs_stat, obs_line_height, marker = 'o', color = 'red')\n",
    "            \n",
    "    # Plotting x ticks\n",
    "    x_ticks = std_list\n",
    "    x_labels = std_list_format\n",
    "    plt.xticks(x_ticks, x_labels)\n",
    "    plt.ylim(0,lim)"
   ]
  },
  {
   "cell_type": "code",
   "execution_count": 19,
   "id": "00f125c5",
   "metadata": {},
   "outputs": [],
   "source": [
    "def shading(data, left, right, color):\n",
    "    \n",
    "    \"\"\"\n",
    "    This function shades areas of the kde plot.\n",
    "    Arguments:\n",
    "    data = array\n",
    "    left = left boundary of the area to be shaded\n",
    "    right = right boundary of the area to be shaded\n",
    "    color = color\n",
    "    \"\"\"\n",
    "    \n",
    "    #Shading areas\n",
    "    kde = stats.gaussian_kde(data)\n",
    "    shade = np.linspace(left, right, 100)\n",
    "    plt.fill_between(shade, kde(shade), color = color, alpha = 0.5);"
   ]
  },
  {
   "cell_type": "code",
   "execution_count": 20,
   "id": "780d93d7",
   "metadata": {
    "scrolled": false
   },
   "outputs": [
    {
     "data": {
      "text/plain": [
       "Text(0.075, 1, 'P-value = 90.51%')"
      ]
     },
     "execution_count": 20,
     "metadata": {},
     "output_type": "execute_result"
    },
    {
     "data": {
      "image/png": "[encoded data removed]",
      "text/plain": [
       "<Figure size 864x432 with 1 Axes>"
      ]
     },
     "metadata": {
      "needs_background": "light"
     },
     "output_type": "display_data"
    }
   ],
   "source": [
    "# Plotting the sampling distribution\n",
    "obs_diff = treat.converted.mean() - control.converted.mean()\n",
    "statplot(null_vals, 500, obs_diff, 'Sampling Distribution of the difference in sample proportions under the null hypothesis')\n",
    "shading(null_vals, obs_diff, null_vals.max(),'#aaf4ff')\n",
    "shading(null_vals, null_vals.min(), obs_diff,'#b9f0c8')\n",
    "plt.text(0.075, 1, \"P-value = {}\".format(p_form), color = 'black', size = 25)"
   ]
  },
  {
   "cell_type": "markdown",
   "id": "a318c703",
   "metadata": {},
   "source": [
    "The plot above is the sampling distribution of the difference in sample proportions under the null hypothesis. The observed difference in conversion rates is less than the first standard deviation with a p-value of 90.51%. Given that our level of significance is 5%, we fail to reject the null hypothesis, i.e we do not have enough evidence to conclude that the conversion rate with the new page is higher than the old page. This emphasizes of initial conclusion that there is no significant impact for the new page."
   ]
  },
  {
   "cell_type": "markdown",
   "id": "a0e2a196",
   "metadata": {},
   "source": [
    "#### VI - Conclusion"
   ]
  },
  {
   "cell_type": "markdown",
   "id": "9a2f53fc",
   "metadata": {},
   "source": [
    "First, we investigated the relationships and structures in the data. There was no missing values but was one user that was duplicated. We also had issues with users under the wrong labels. Some users were categories under the treatment group but entered the old page. This needed to be resolved before conducting A/B testing.\n",
    "\n",
    "After applying A/B Testing, the analysis gave us some important information. There was no statistical significance between the two groups meaning that we don’t have enough evidence to say that the new page is better than the old page. \n",
    "\n",
    "**Therefore, it’s my recommendation that the business continues to use the old page as the new page is neither practically nor statistically significant.**"
   ]
  }
 ],
 "metadata": {
  "kernelspec": {
   "display_name": "Python 3",
   "language": "python",
   "name": "python3"
  },
  "language_info": {
   "codemirror_mode": {
    "name": "ipython",
    "version": 3
   },
   "file_extension": ".py",
   "mimetype": "text/x-python",
   "name": "python",
   "nbconvert_exporter": "python",
   "pygments_lexer": "ipython3",
   "version": "3.8.8"
  }
 },
 "nbformat": 4,
 "nbformat_minor": 5
}
